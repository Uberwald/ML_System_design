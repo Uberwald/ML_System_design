{
 "cells": [
  {
   "cell_type": "code",
   "execution_count": 1,
   "id": "36b82944",
   "metadata": {
    "execution": {
     "iopub.execute_input": "2025-01-03T12:14:07.638329Z",
     "iopub.status.busy": "2025-01-03T12:14:07.637605Z",
     "iopub.status.idle": "2025-01-03T12:14:08.827444Z",
     "shell.execute_reply": "2025-01-03T12:14:08.826558Z",
     "shell.execute_reply.started": "2025-01-03T12:14:07.638272Z"
    }
   },
   "outputs": [],
   "source": [
    "from mtspark import get_spark, to_pandas\n",
    "import pandas as pd\n",
    "from IPython.display import clear_output\n",
    "from pyspark.sql import functions as F, Window"
   ]
  },
  {
   "cell_type": "code",
   "execution_count": 3,
   "id": "fc7d1880",
   "metadata": {
    "execution": {
     "iopub.execute_input": "2025-01-03T12:14:34.344411Z",
     "iopub.status.busy": "2025-01-03T12:14:34.343817Z",
     "iopub.status.idle": "2025-01-03T12:15:10.559274Z",
     "shell.execute_reply": "2025-01-03T12:15:10.557953Z",
     "shell.execute_reply.started": "2025-01-03T12:14:34.344372Z"
    }
   },
   "outputs": [],
   "source": [
    "spark = get_spark({\n",
    "    'appName': 'prepare_alien_targets',\n",
    "    'spark.yarn.queue': 'fin_users',\n",
    "    'spark.ui.showConsoleProgress': 'false',\n",
    "    'spark.executor.cores': 4,\n",
    "    'spark.executor.memory': '25g',\n",
    "    'spark.driver.memory': '32g',\n",
    "    'spark.driver.maxResultSize': '128g',\n",
    "    'spark.kryoserializer.buffer.max': '512m',\n",
    "    \"spark.hadoop.hive.warehouse.data.skiptrash\": \"true\",\n",
    "    'spark.jars.packages': 'ru.mts.bigdata.onetools:mtspark-scala-functions_2.12:1.0.4',\n",
    "}, spark_version='local')\n",
    "clear_output()"
   ]
  },
  {
   "cell_type": "markdown",
   "id": "112c6690",
   "metadata": {},
   "source": [
    "# Сбор таргета\n",
    "Была написана специальная функция по отбору номеров неабонентов - клиентов МТСБ (на дату n у него было оформлено подписки), результат записан в таблицу rand_0_aafan_target_alien_cc_apr_sept_2024. Строк получилось не ошеломляюще много в виду специфической логики."
   ]
  },
  {
   "cell_type": "code",
   "execution_count": 5,
   "id": "53b67767",
   "metadata": {
    "execution": {
     "iopub.execute_input": "2025-01-03T12:18:42.959115Z",
     "iopub.status.busy": "2025-01-03T12:18:42.958599Z",
     "iopub.status.idle": "2025-01-03T12:20:50.010723Z",
     "shell.execute_reply": "2025-01-03T12:20:50.009944Z",
     "shell.execute_reply.started": "2025-01-03T12:18:42.959082Z"
    }
   },
   "outputs": [
    {
     "data": {
      "text/plain": [
       "4709696"
      ]
     },
     "execution_count": 5,
     "metadata": {},
     "output_type": "execute_result"
    }
   ],
   "source": [
    "pre_target = spark.table('leadgen_sb.rand_0_aafan_target_alien_cc_apr_sept_2024')\n",
    "pre_target.select('msisdn').distinct().count()"
   ]
  },
  {
   "cell_type": "code",
   "execution_count": 6,
   "id": "91375357",
   "metadata": {
    "execution": {
     "iopub.execute_input": "2025-01-03T12:22:22.263474Z",
     "iopub.status.busy": "2025-01-03T12:22:22.262939Z",
     "iopub.status.idle": "2025-01-03T12:22:22.281715Z",
     "shell.execute_reply": "2025-01-03T12:22:22.281093Z",
     "shell.execute_reply.started": "2025-01-03T12:22:22.263440Z"
    }
   },
   "outputs": [
    {
     "data": {
      "text/plain": [
       "['msisdn',\n",
       " 'client_id',\n",
       " 'business_dt_orig',\n",
       " 'target',\n",
       " 'window_start',\n",
       " 'business_dt_sunday']"
      ]
     },
     "execution_count": 6,
     "metadata": {},
     "output_type": "execute_result"
    }
   ],
   "source": [
    "pre_target.columns"
   ]
  },
  {
   "cell_type": "code",
   "execution_count": 7,
   "id": "a010f6a6",
   "metadata": {
    "execution": {
     "iopub.execute_input": "2025-01-03T12:25:00.681900Z",
     "iopub.status.busy": "2025-01-03T12:25:00.681388Z",
     "iopub.status.idle": "2025-01-03T12:25:29.598900Z",
     "shell.execute_reply": "2025-01-03T12:25:29.598186Z",
     "shell.execute_reply.started": "2025-01-03T12:25:00.681852Z"
    }
   },
   "outputs": [
    {
     "name": "stdout",
     "output_type": "stream",
     "text": [
      "+------+-------+\n",
      "|target|  count|\n",
      "+------+-------+\n",
      "|     1|  41643|\n",
      "|     0|4668053|\n",
      "+------+-------+\n",
      "\n"
     ]
    }
   ],
   "source": [
    "pre_target.groupBy('target').count().show()"
   ]
  },
  {
   "cell_type": "code",
   "execution_count": 8,
   "id": "2c30b329",
   "metadata": {
    "execution": {
     "iopub.execute_input": "2025-01-03T12:28:45.646583Z",
     "iopub.status.busy": "2025-01-03T12:28:45.646145Z",
     "iopub.status.idle": "2025-01-03T12:30:25.796180Z",
     "shell.execute_reply": "2025-01-03T12:30:25.795501Z",
     "shell.execute_reply.started": "2025-01-03T12:28:45.646553Z"
    }
   },
   "outputs": [
    {
     "name": "stdout",
     "output_type": "stream",
     "text": [
      "+------+-------+------------------+\n",
      "|target|  count|           percent|\n",
      "+------+-------+------------------+\n",
      "|     1|  41643|0.8841971965918819|\n",
      "|     0|4668053| 99.11580280340812|\n",
      "+------+-------+------------------+\n",
      "\n"
     ]
    }
   ],
   "source": [
    "total_rows = pre_target.count()\n",
    "result = pre_target.groupBy('target').count()\n",
    "result.withColumn('percent', (F.col('count') / total_rows) * 100).show()"
   ]
  },
  {
   "cell_type": "code",
   "execution_count": 9,
   "id": "d80acd09",
   "metadata": {
    "execution": {
     "iopub.execute_input": "2025-01-03T12:45:22.578376Z",
     "iopub.status.busy": "2025-01-03T12:45:22.577912Z",
     "iopub.status.idle": "2025-01-03T12:46:57.174085Z",
     "shell.execute_reply": "2025-01-03T12:46:57.173389Z",
     "shell.execute_reply.started": "2025-01-03T12:45:22.578345Z"
    }
   },
   "outputs": [],
   "source": [
    "min_date_df = pre_target.select(F.min('window_start'))\n",
    "min_date = min_date_df.collect()[0][0].strftime('%Y-%m-%d')\n",
    "\n",
    "max_date_df = pre_target.select(F.max('business_dt_orig'))\n",
    "max_date = max_date_df.collect()[0][0].strftime('%Y-%m-%d')"
   ]
  },
  {
   "cell_type": "code",
   "execution_count": 10,
   "id": "05191d5e",
   "metadata": {
    "execution": {
     "iopub.execute_input": "2025-01-03T12:46:57.175894Z",
     "iopub.status.busy": "2025-01-03T12:46:57.175574Z",
     "iopub.status.idle": "2025-01-03T12:46:57.179366Z",
     "shell.execute_reply": "2025-01-03T12:46:57.178841Z",
     "shell.execute_reply.started": "2025-01-03T12:46:57.175860Z"
    }
   },
   "outputs": [
    {
     "name": "stdout",
     "output_type": "stream",
     "text": [
      "2024-03-18 2024-09-30\n"
     ]
    }
   ],
   "source": [
    "print(min_date, max_date)"
   ]
  },
  {
   "cell_type": "code",
   "execution_count": 17,
   "id": "29da5d6b",
   "metadata": {
    "execution": {
     "iopub.execute_input": "2025-01-03T13:16:51.105920Z",
     "iopub.status.busy": "2025-01-03T13:16:51.105419Z",
     "iopub.status.idle": "2025-01-03T13:17:17.204296Z",
     "shell.execute_reply": "2025-01-03T13:17:17.203445Z",
     "shell.execute_reply.started": "2025-01-03T13:16:51.105867Z"
    }
   },
   "outputs": [
    {
     "data": {
      "image/png": "[encoded data removed]",
      "text/plain": [
       "<Figure size 640x480 with 1 Axes>"
      ]
     },
     "metadata": {},
     "output_type": "display_data"
    }
   ],
   "source": [
    "pre_target = pre_target.withColumn('month', month(pre_target['business_dt_orig']))\n",
    "\n",
    "monthly_counts = pre_target.groupBy('month').count().orderBy('month')\n",
    "\n",
    "monthly_counts_pd = monthly_counts.toPandas()\n",
    "\n",
    "ax = monthly_counts_pd.plot(kind='bar', x='month', y='count')\n",
    "plt.xlabel('Month')\n",
    "plt.ylabel('Count')\n",
    "plt.title('Monthly counts')\n",
    "\n",
    "for i, v in enumerate(monthly_counts_pd['count']):\n",
    "    ax.text(i, v + 50, str(v), ha='center')\n",
    "\n",
    "plt.show()"
   ]
  },
  {
   "cell_type": "markdown",
   "id": "168669dd",
   "metadata": {},
   "source": [
    "# Граф звонков"
   ]
  },
  {
   "cell_type": "code",
   "execution_count": 11,
   "id": "7c5a4e16",
   "metadata": {
    "execution": {
     "iopub.execute_input": "2025-01-03T12:47:26.281809Z",
     "iopub.status.busy": "2025-01-03T12:47:26.281349Z",
     "iopub.status.idle": "2025-01-03T12:47:26.326625Z",
     "shell.execute_reply": "2025-01-03T12:47:26.325925Z",
     "shell.execute_reply.started": "2025-01-03T12:47:26.281783Z"
    }
   },
   "outputs": [],
   "source": [
    "calls = spark.table('leadgen_sb.rand_0_aafan_graph_calls_alien_cc_apr_sept_2024')"
   ]
  },
  {
   "cell_type": "code",
   "execution_count": 12,
   "id": "2c4cb5b5",
   "metadata": {
    "execution": {
     "iopub.execute_input": "2025-01-03T12:47:31.553224Z",
     "iopub.status.busy": "2025-01-03T12:47:31.552787Z",
     "iopub.status.idle": "2025-01-03T12:49:36.388926Z",
     "shell.execute_reply": "2025-01-03T12:49:36.388027Z",
     "shell.execute_reply.started": "2025-01-03T12:47:31.553198Z"
    }
   },
   "outputs": [
    {
     "data": {
      "text/plain": [
       "296722403"
      ]
     },
     "execution_count": 12,
     "metadata": {},
     "output_type": "execute_result"
    }
   ],
   "source": [
    "calls.count()"
   ]
  },
  {
   "cell_type": "code",
   "execution_count": 13,
   "id": "7d10068d",
   "metadata": {
    "execution": {
     "iopub.execute_input": "2025-01-03T12:49:36.390704Z",
     "iopub.status.busy": "2025-01-03T12:49:36.390345Z",
     "iopub.status.idle": "2025-01-03T12:50:32.788955Z",
     "shell.execute_reply": "2025-01-03T12:50:32.788106Z",
     "shell.execute_reply.started": "2025-01-03T12:49:36.390676Z"
    }
   },
   "outputs": [
    {
     "data": {
      "text/plain": [
       "3509385"
      ]
     },
     "execution_count": 13,
     "metadata": {},
     "output_type": "execute_result"
    }
   ],
   "source": [
    "# Уникальных пользователей стало меньше, так как не все они могли совершать звонки\n",
    "calls.select('msisdn').distinct().count()"
   ]
  },
  {
   "cell_type": "code",
   "execution_count": 15,
   "id": "84c7d4b1",
   "metadata": {
    "execution": {
     "iopub.execute_input": "2025-01-03T13:09:33.793001Z",
     "iopub.status.busy": "2025-01-03T13:09:33.792280Z",
     "iopub.status.idle": "2025-01-03T13:10:51.363450Z",
     "shell.execute_reply": "2025-01-03T13:10:51.362697Z",
     "shell.execute_reply.started": "2025-01-03T13:09:33.792955Z"
    }
   },
   "outputs": [
    {
     "data": {
      "image/png": "[encoded data removed]",
      "text/plain": [
       "<Figure size 640x480 with 1 Axes>"
      ]
     },
     "metadata": {},
     "output_type": "display_data"
    }
   ],
   "source": [
    "from pyspark.sql.functions import month\n",
    "import matplotlib.pyplot as plt\n",
    "\n",
    "calls = calls.withColumn('month', month(calls['business_dt']))\n",
    "\n",
    "monthly_counts = calls.groupBy('month').count().orderBy('month')\n",
    "\n",
    "monthly_counts_pd = monthly_counts.toPandas()\n",
    "\n",
    "ax = monthly_counts_pd.plot(kind='bar', x='month', y='count')\n",
    "plt.xlabel('Month')\n",
    "plt.ylabel('Count')\n",
    "plt.title('Monthly counts')\n",
    "\n",
    "for i, v in enumerate(monthly_counts_pd['count']):\n",
    "    ax.text(i, v + 50, str(v), ha='center')\n",
    "\n",
    "plt.show()"
   ]
  }
 ],
 "metadata": {
  "kernelspec": {
   "display_name": "general",
   "language": "python",
   "name": "general"
  },
  "language_info": {
   "codemirror_mode": {
    "name": "ipython",
    "version": 3
   },
   "file_extension": ".py",
   "mimetype": "text/x-python",
   "name": "python",
   "nbconvert_exporter": "python",
   "pygments_lexer": "ipython3",
   "version": "3.8.8"
  }
 },
 "nbformat": 4,
 "nbformat_minor": 5
}
